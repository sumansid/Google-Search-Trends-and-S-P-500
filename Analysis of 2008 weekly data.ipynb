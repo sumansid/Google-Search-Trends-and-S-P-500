{
 "cells": [
  {
   "cell_type": "markdown",
   "metadata": {},
   "source": [
    "# Import statements"
   ]
  },
  {
   "cell_type": "code",
   "execution_count": 45,
   "metadata": {},
   "outputs": [
    {
     "name": "stderr",
     "output_type": "stream",
     "text": [
      "/opt/anaconda3/lib/python3.7/importlib/_bootstrap.py:219: RuntimeWarning: numpy.ufunc size changed, may indicate binary incompatibility. Expected 192 from C header, got 216 from PyObject\n",
      "  return f(*args, **kwds)\n"
     ]
    }
   ],
   "source": [
    "import pandas as pd\n",
    "import numpy as np\n",
    "import matplotlib.pyplot as plt\n",
    "import seaborn as sns\n",
    "from sklearn.linear_model import LinearRegression\n",
    "from sklearn.model_selection import train_test_split\n",
    "import statsmodels.api as sm"
   ]
  },
  {
   "cell_type": "markdown",
   "metadata": {},
   "source": [
    "# Paths"
   ]
  },
  {
   "cell_type": "code",
   "execution_count": 21,
   "metadata": {},
   "outputs": [],
   "source": [
    "weekly_2008 = 'Weekly 2008/Full_data_weekly_2008.csv'"
   ]
  },
  {
   "cell_type": "code",
   "execution_count": 30,
   "metadata": {},
   "outputs": [],
   "source": [
    "data = pd.read_csv(weekly_2008)"
   ]
  },
  {
   "cell_type": "code",
   "execution_count": 31,
   "metadata": {},
   "outputs": [
    {
     "data": {
      "text/html": [
       "<div>\n",
       "<style scoped>\n",
       "    .dataframe tbody tr th:only-of-type {\n",
       "        vertical-align: middle;\n",
       "    }\n",
       "\n",
       "    .dataframe tbody tr th {\n",
       "        vertical-align: top;\n",
       "    }\n",
       "\n",
       "    .dataframe thead th {\n",
       "        text-align: right;\n",
       "    }\n",
       "</style>\n",
       "<table border=\"1\" class=\"dataframe\">\n",
       "  <thead>\n",
       "    <tr style=\"text-align: right;\">\n",
       "      <th></th>\n",
       "      <th>Week</th>\n",
       "      <th>debt</th>\n",
       "      <th>Date</th>\n",
       "      <th>Change %</th>\n",
       "      <th>Dummy_Monthy</th>\n",
       "      <th>stockmarketcrash</th>\n",
       "      <th>economicboom</th>\n",
       "      <th>recession</th>\n",
       "      <th>bullmarket</th>\n",
       "      <th>bearmarket</th>\n",
       "      <th>financialcrisis</th>\n",
       "      <th>Price</th>\n",
       "    </tr>\n",
       "  </thead>\n",
       "  <tbody>\n",
       "    <tr>\n",
       "      <td>0</td>\n",
       "      <td>1/6/08</td>\n",
       "      <td>67</td>\n",
       "      <td>6-Jan-08</td>\n",
       "      <td>-0.75%</td>\n",
       "      <td>52</td>\n",
       "      <td>12</td>\n",
       "      <td>65</td>\n",
       "      <td>48</td>\n",
       "      <td>48</td>\n",
       "      <td>22</td>\n",
       "      <td>2</td>\n",
       "      <td>1401.02</td>\n",
       "    </tr>\n",
       "    <tr>\n",
       "      <td>1</td>\n",
       "      <td>1/13/08</td>\n",
       "      <td>69</td>\n",
       "      <td>13-Jan-08</td>\n",
       "      <td>-5.41%</td>\n",
       "      <td>51</td>\n",
       "      <td>15</td>\n",
       "      <td>27</td>\n",
       "      <td>73</td>\n",
       "      <td>50</td>\n",
       "      <td>38</td>\n",
       "      <td>2</td>\n",
       "      <td>1325.19</td>\n",
       "    </tr>\n",
       "    <tr>\n",
       "      <td>2</td>\n",
       "      <td>1/20/08</td>\n",
       "      <td>69</td>\n",
       "      <td>20-Jan-08</td>\n",
       "      <td>0.41%</td>\n",
       "      <td>50</td>\n",
       "      <td>32</td>\n",
       "      <td>55</td>\n",
       "      <td>100</td>\n",
       "      <td>90</td>\n",
       "      <td>52</td>\n",
       "      <td>3</td>\n",
       "      <td>1330.61</td>\n",
       "    </tr>\n",
       "    <tr>\n",
       "      <td>3</td>\n",
       "      <td>1/27/08</td>\n",
       "      <td>68</td>\n",
       "      <td>27-Jan-08</td>\n",
       "      <td>4.87%</td>\n",
       "      <td>49</td>\n",
       "      <td>13</td>\n",
       "      <td>67</td>\n",
       "      <td>44</td>\n",
       "      <td>39</td>\n",
       "      <td>25</td>\n",
       "      <td>3</td>\n",
       "      <td>1395.42</td>\n",
       "    </tr>\n",
       "    <tr>\n",
       "      <td>4</td>\n",
       "      <td>2/3/08</td>\n",
       "      <td>71</td>\n",
       "      <td>3-Feb-08</td>\n",
       "      <td>-4.60%</td>\n",
       "      <td>48</td>\n",
       "      <td>12</td>\n",
       "      <td>36</td>\n",
       "      <td>35</td>\n",
       "      <td>53</td>\n",
       "      <td>17</td>\n",
       "      <td>2</td>\n",
       "      <td>1331.29</td>\n",
       "    </tr>\n",
       "  </tbody>\n",
       "</table>\n",
       "</div>"
      ],
      "text/plain": [
       "      Week  debt       Date Change %  Dummy_Monthy  stockmarketcrash  \\\n",
       "0   1/6/08    67   6-Jan-08   -0.75%            52                12   \n",
       "1  1/13/08    69  13-Jan-08   -5.41%            51                15   \n",
       "2  1/20/08    69  20-Jan-08    0.41%            50                32   \n",
       "3  1/27/08    68  27-Jan-08    4.87%            49                13   \n",
       "4   2/3/08    71   3-Feb-08   -4.60%            48                12   \n",
       "\n",
       "   economicboom  recession  bullmarket  bearmarket  financialcrisis    Price  \n",
       "0            65         48          48          22                2  1401.02  \n",
       "1            27         73          50          38                2  1325.19  \n",
       "2            55        100          90          52                3  1330.61  \n",
       "3            67         44          39          25                3  1395.42  \n",
       "4            36         35          53          17                2  1331.29  "
      ]
     },
     "execution_count": 31,
     "metadata": {},
     "output_type": "execute_result"
    }
   ],
   "source": [
    "data.head()"
   ]
  },
  {
   "cell_type": "code",
   "execution_count": 32,
   "metadata": {},
   "outputs": [
    {
     "data": {
      "text/plain": [
       "Week                False\n",
       "debt                False\n",
       "Date                False\n",
       "Change %            False\n",
       "Dummy_Monthy        False\n",
       "stockmarketcrash    False\n",
       "economicboom        False\n",
       "recession           False\n",
       "bullmarket          False\n",
       "bearmarket          False\n",
       "financialcrisis     False\n",
       "Price               False\n",
       "dtype: bool"
      ]
     },
     "execution_count": 32,
     "metadata": {},
     "output_type": "execute_result"
    }
   ],
   "source": [
    "# Check if any of the values are null\n",
    "data.isnull().any()"
   ]
  },
  {
   "cell_type": "code",
   "execution_count": 33,
   "metadata": {},
   "outputs": [
    {
     "data": {
      "text/html": [
       "<div>\n",
       "<style scoped>\n",
       "    .dataframe tbody tr th:only-of-type {\n",
       "        vertical-align: middle;\n",
       "    }\n",
       "\n",
       "    .dataframe tbody tr th {\n",
       "        vertical-align: top;\n",
       "    }\n",
       "\n",
       "    .dataframe thead th {\n",
       "        text-align: right;\n",
       "    }\n",
       "</style>\n",
       "<table border=\"1\" class=\"dataframe\">\n",
       "  <thead>\n",
       "    <tr style=\"text-align: right;\">\n",
       "      <th></th>\n",
       "      <th>debt</th>\n",
       "      <th>Dummy_Monthy</th>\n",
       "      <th>stockmarketcrash</th>\n",
       "      <th>economicboom</th>\n",
       "      <th>recession</th>\n",
       "      <th>bullmarket</th>\n",
       "      <th>bearmarket</th>\n",
       "      <th>financialcrisis</th>\n",
       "      <th>Price</th>\n",
       "    </tr>\n",
       "  </thead>\n",
       "  <tbody>\n",
       "    <tr>\n",
       "      <td>debt</td>\n",
       "      <td>1.000000</td>\n",
       "      <td>-0.356581</td>\n",
       "      <td>0.794161</td>\n",
       "      <td>0.029634</td>\n",
       "      <td>0.599710</td>\n",
       "      <td>0.588191</td>\n",
       "      <td>0.247071</td>\n",
       "      <td>0.883672</td>\n",
       "      <td>-0.518830</td>\n",
       "    </tr>\n",
       "    <tr>\n",
       "      <td>Dummy_Monthy</td>\n",
       "      <td>-0.356581</td>\n",
       "      <td>1.000000</td>\n",
       "      <td>-0.192127</td>\n",
       "      <td>0.170612</td>\n",
       "      <td>-0.098969</td>\n",
       "      <td>-0.123344</td>\n",
       "      <td>0.041900</td>\n",
       "      <td>-0.531408</td>\n",
       "      <td>0.839023</td>\n",
       "    </tr>\n",
       "    <tr>\n",
       "      <td>stockmarketcrash</td>\n",
       "      <td>0.794161</td>\n",
       "      <td>-0.192127</td>\n",
       "      <td>1.000000</td>\n",
       "      <td>0.099472</td>\n",
       "      <td>0.503604</td>\n",
       "      <td>0.554786</td>\n",
       "      <td>0.308187</td>\n",
       "      <td>0.858048</td>\n",
       "      <td>-0.325495</td>\n",
       "    </tr>\n",
       "    <tr>\n",
       "      <td>economicboom</td>\n",
       "      <td>0.029634</td>\n",
       "      <td>0.170612</td>\n",
       "      <td>0.099472</td>\n",
       "      <td>1.000000</td>\n",
       "      <td>0.114672</td>\n",
       "      <td>0.137944</td>\n",
       "      <td>-0.219413</td>\n",
       "      <td>0.006505</td>\n",
       "      <td>0.021035</td>\n",
       "    </tr>\n",
       "    <tr>\n",
       "      <td>recession</td>\n",
       "      <td>0.599710</td>\n",
       "      <td>-0.098969</td>\n",
       "      <td>0.503604</td>\n",
       "      <td>0.114672</td>\n",
       "      <td>1.000000</td>\n",
       "      <td>0.575404</td>\n",
       "      <td>0.312608</td>\n",
       "      <td>0.454628</td>\n",
       "      <td>-0.457440</td>\n",
       "    </tr>\n",
       "    <tr>\n",
       "      <td>bullmarket</td>\n",
       "      <td>0.588191</td>\n",
       "      <td>-0.123344</td>\n",
       "      <td>0.554786</td>\n",
       "      <td>0.137944</td>\n",
       "      <td>0.575404</td>\n",
       "      <td>1.000000</td>\n",
       "      <td>0.562969</td>\n",
       "      <td>0.518801</td>\n",
       "      <td>-0.400369</td>\n",
       "    </tr>\n",
       "    <tr>\n",
       "      <td>bearmarket</td>\n",
       "      <td>0.247071</td>\n",
       "      <td>0.041900</td>\n",
       "      <td>0.308187</td>\n",
       "      <td>-0.219413</td>\n",
       "      <td>0.312608</td>\n",
       "      <td>0.562969</td>\n",
       "      <td>1.000000</td>\n",
       "      <td>0.213656</td>\n",
       "      <td>-0.140610</td>\n",
       "    </tr>\n",
       "    <tr>\n",
       "      <td>financialcrisis</td>\n",
       "      <td>0.883672</td>\n",
       "      <td>-0.531408</td>\n",
       "      <td>0.858048</td>\n",
       "      <td>0.006505</td>\n",
       "      <td>0.454628</td>\n",
       "      <td>0.518801</td>\n",
       "      <td>0.213656</td>\n",
       "      <td>1.000000</td>\n",
       "      <td>-0.597913</td>\n",
       "    </tr>\n",
       "    <tr>\n",
       "      <td>Price</td>\n",
       "      <td>-0.518830</td>\n",
       "      <td>0.839023</td>\n",
       "      <td>-0.325495</td>\n",
       "      <td>0.021035</td>\n",
       "      <td>-0.457440</td>\n",
       "      <td>-0.400369</td>\n",
       "      <td>-0.140610</td>\n",
       "      <td>-0.597913</td>\n",
       "      <td>1.000000</td>\n",
       "    </tr>\n",
       "  </tbody>\n",
       "</table>\n",
       "</div>"
      ],
      "text/plain": [
       "                      debt  Dummy_Monthy  stockmarketcrash  economicboom  \\\n",
       "debt              1.000000     -0.356581          0.794161      0.029634   \n",
       "Dummy_Monthy     -0.356581      1.000000         -0.192127      0.170612   \n",
       "stockmarketcrash  0.794161     -0.192127          1.000000      0.099472   \n",
       "economicboom      0.029634      0.170612          0.099472      1.000000   \n",
       "recession         0.599710     -0.098969          0.503604      0.114672   \n",
       "bullmarket        0.588191     -0.123344          0.554786      0.137944   \n",
       "bearmarket        0.247071      0.041900          0.308187     -0.219413   \n",
       "financialcrisis   0.883672     -0.531408          0.858048      0.006505   \n",
       "Price            -0.518830      0.839023         -0.325495      0.021035   \n",
       "\n",
       "                  recession  bullmarket  bearmarket  financialcrisis     Price  \n",
       "debt               0.599710    0.588191    0.247071         0.883672 -0.518830  \n",
       "Dummy_Monthy      -0.098969   -0.123344    0.041900        -0.531408  0.839023  \n",
       "stockmarketcrash   0.503604    0.554786    0.308187         0.858048 -0.325495  \n",
       "economicboom       0.114672    0.137944   -0.219413         0.006505  0.021035  \n",
       "recession          1.000000    0.575404    0.312608         0.454628 -0.457440  \n",
       "bullmarket         0.575404    1.000000    0.562969         0.518801 -0.400369  \n",
       "bearmarket         0.312608    0.562969    1.000000         0.213656 -0.140610  \n",
       "financialcrisis    0.454628    0.518801    0.213656         1.000000 -0.597913  \n",
       "Price             -0.457440   -0.400369   -0.140610        -0.597913  1.000000  "
      ]
     },
     "execution_count": 33,
     "metadata": {},
     "output_type": "execute_result"
    }
   ],
   "source": [
    "data.corr()"
   ]
  },
  {
   "cell_type": "code",
   "execution_count": 34,
   "metadata": {},
   "outputs": [
    {
     "data": {
      "image/png": "[encoded data removed]",
      "text/plain": [
       "<Figure size 1152x720 with 2 Axes>"
      ]
     },
     "metadata": {},
     "output_type": "display_data"
    }
   ],
   "source": [
    "plt.figure(figsize=(16,10))\n",
    "sns.heatmap(data.corr(), annot=True, annot_kws={\"size\": 12})\n",
    "sns.set_style('white')\n",
    "\n",
    "plt.tight_layout()\n",
    "plt.show()\n"
   ]
  },
  {
   "cell_type": "code",
   "execution_count": 35,
   "metadata": {},
   "outputs": [
    {
     "data": {
      "text/plain": [
       "(array([0, 0, 0, 0, 0, 0, 0, 0, 0, 1, 1, 1, 1, 1, 1, 1, 1, 2, 2, 2, 2, 2,\n",
       "        2, 2, 3, 3, 3, 3, 3, 3, 4, 4, 4, 4, 4, 5, 5, 5, 5, 6, 6, 6, 7, 7,\n",
       "        8]),\n",
       " array([0, 1, 2, 3, 4, 5, 6, 7, 8, 1, 2, 3, 4, 5, 6, 7, 8, 2, 3, 4, 5, 6,\n",
       "        7, 8, 3, 4, 5, 6, 7, 8, 4, 5, 6, 7, 8, 5, 6, 7, 8, 6, 7, 8, 7, 8,\n",
       "        8]))"
      ]
     },
     "execution_count": 35,
     "metadata": {},
     "output_type": "execute_result"
    }
   ],
   "source": [
    "mask = np.zeros_like(data.corr())\n",
    "triangle_indices = np.triu_indices_from(mask)\n",
    "triangle_indices"
   ]
  },
  {
   "cell_type": "code",
   "execution_count": 36,
   "metadata": {},
   "outputs": [
    {
     "data": {
      "image/png": "[encoded data removed]",
      "text/plain": [
       "<Figure size 1152x720 with 2 Axes>"
      ]
     },
     "metadata": {},
     "output_type": "display_data"
    }
   ],
   "source": [
    "mask[triangle_indices] = True\n",
    "\n",
    "plt.figure(figsize=(16,10))\n",
    "sns.heatmap(data.corr(), mask=mask, annot=True, annot_kws={\"size\": 14})\n",
    "sns.set_style('white')\n",
    "plt.show()"
   ]
  },
  {
   "cell_type": "code",
   "execution_count": 43,
   "metadata": {},
   "outputs": [
    {
     "data": {
      "text/plain": [
       "LinearRegression(copy_X=True, fit_intercept=True, n_jobs=1, normalize=False)"
      ]
     },
     "execution_count": 43,
     "metadata": {},
     "output_type": "execute_result"
    }
   ],
   "source": [
    "# Linear Regression Model for 2008 weekly data\n",
    "\n",
    "price = np.log(data['Price'])\n",
    "search_term = data.drop(['Price','Week', 'Date', 'Change %'], axis=1)\n",
    "X_train, X_test, y_train, y_test = train_test_split(search_term, price, test_size=0.3, random_state=43)\n",
    "\n",
    "\n",
    "regr = LinearRegression(n_jobs=1)\n",
    "regr.fit(X_train, y_train)\n"
   ]
  },
  {
   "cell_type": "code",
   "execution_count": 46,
   "metadata": {},
   "outputs": [
    {
     "name": "stderr",
     "output_type": "stream",
     "text": [
      "/opt/anaconda3/lib/python3.7/site-packages/numpy/core/fromnumeric.py:2495: FutureWarning: Method .ptp is deprecated and will be removed in a future version. Use numpy.ptp instead.\n",
      "  return ptp(axis=axis, out=out, **kwargs)\n"
     ]
    },
    {
     "data": {
      "text/html": [
       "<div>\n",
       "<style scoped>\n",
       "    .dataframe tbody tr th:only-of-type {\n",
       "        vertical-align: middle;\n",
       "    }\n",
       "\n",
       "    .dataframe tbody tr th {\n",
       "        vertical-align: top;\n",
       "    }\n",
       "\n",
       "    .dataframe thead th {\n",
       "        text-align: right;\n",
       "    }\n",
       "</style>\n",
       "<table border=\"1\" class=\"dataframe\">\n",
       "  <thead>\n",
       "    <tr style=\"text-align: right;\">\n",
       "      <th></th>\n",
       "      <th>coef</th>\n",
       "      <th>p-values</th>\n",
       "    </tr>\n",
       "  </thead>\n",
       "  <tbody>\n",
       "    <tr>\n",
       "      <td>const</td>\n",
       "      <td>7.024676</td>\n",
       "      <td>0.000</td>\n",
       "    </tr>\n",
       "    <tr>\n",
       "      <td>debt</td>\n",
       "      <td>0.001065</td>\n",
       "      <td>0.689</td>\n",
       "    </tr>\n",
       "    <tr>\n",
       "      <td>Dummy_Monthy</td>\n",
       "      <td>0.006498</td>\n",
       "      <td>0.000</td>\n",
       "    </tr>\n",
       "    <tr>\n",
       "      <td>stockmarketcrash</td>\n",
       "      <td>0.005925</td>\n",
       "      <td>0.007</td>\n",
       "    </tr>\n",
       "    <tr>\n",
       "      <td>economicboom</td>\n",
       "      <td>-0.000402</td>\n",
       "      <td>0.459</td>\n",
       "    </tr>\n",
       "    <tr>\n",
       "      <td>recession</td>\n",
       "      <td>-0.002408</td>\n",
       "      <td>0.002</td>\n",
       "    </tr>\n",
       "    <tr>\n",
       "      <td>bullmarket</td>\n",
       "      <td>-0.002277</td>\n",
       "      <td>0.047</td>\n",
       "    </tr>\n",
       "    <tr>\n",
       "      <td>bearmarket</td>\n",
       "      <td>0.000015</td>\n",
       "      <td>0.986</td>\n",
       "    </tr>\n",
       "    <tr>\n",
       "      <td>financialcrisis</td>\n",
       "      <td>-0.005657</td>\n",
       "      <td>0.014</td>\n",
       "    </tr>\n",
       "  </tbody>\n",
       "</table>\n",
       "</div>"
      ],
      "text/plain": [
       "                      coef  p-values\n",
       "const             7.024676     0.000\n",
       "debt              0.001065     0.689\n",
       "Dummy_Monthy      0.006498     0.000\n",
       "stockmarketcrash  0.005925     0.007\n",
       "economicboom     -0.000402     0.459\n",
       "recession        -0.002408     0.002\n",
       "bullmarket       -0.002277     0.047\n",
       "bearmarket        0.000015     0.986\n",
       "financialcrisis  -0.005657     0.014"
      ]
     },
     "execution_count": 46,
     "metadata": {},
     "output_type": "execute_result"
    }
   ],
   "source": [
    "X_incl_const = sm.add_constant(X_train)\n",
    "model = sm.OLS(y_train, X_incl_const)\n",
    "results = model.fit()\n",
    "\n",
    "pd.DataFrame({'coef': results.params, 'p-values': round(results.pvalues, 3)})\n",
    "\n"
   ]
  },
  {
   "cell_type": "code",
   "execution_count": 47,
   "metadata": {},
   "outputs": [],
   "source": [
    "# Removing Insignificant P values ie. P values < 0.05"
   ]
  },
  {
   "cell_type": "code",
   "execution_count": 49,
   "metadata": {},
   "outputs": [
    {
     "data": {
      "text/plain": [
       "LinearRegression(copy_X=True, fit_intercept=True, n_jobs=1, normalize=False)"
      ]
     },
     "execution_count": 49,
     "metadata": {},
     "output_type": "execute_result"
    }
   ],
   "source": [
    "# Revised Linear Regression Model\n",
    "\n",
    "price = np.log(data['Price'])\n",
    "search_term = data.drop(['Price','Week', 'Date', 'Change %', 'economicboom', 'bearmarket', 'debt'], axis=1)\n",
    "X_train, X_test, y_train, y_test = train_test_split(search_term, price, test_size=0.3, random_state=43)\n",
    "\n",
    "regr = LinearRegression(n_jobs=1)\n",
    "regr.fit(X_train, y_train)\n"
   ]
  },
  {
   "cell_type": "code",
   "execution_count": 50,
   "metadata": {},
   "outputs": [
    {
     "name": "stderr",
     "output_type": "stream",
     "text": [
      "/opt/anaconda3/lib/python3.7/site-packages/numpy/core/fromnumeric.py:2495: FutureWarning: Method .ptp is deprecated and will be removed in a future version. Use numpy.ptp instead.\n",
      "  return ptp(axis=axis, out=out, **kwargs)\n"
     ]
    },
    {
     "data": {
      "text/html": [
       "<div>\n",
       "<style scoped>\n",
       "    .dataframe tbody tr th:only-of-type {\n",
       "        vertical-align: middle;\n",
       "    }\n",
       "\n",
       "    .dataframe tbody tr th {\n",
       "        vertical-align: top;\n",
       "    }\n",
       "\n",
       "    .dataframe thead th {\n",
       "        text-align: right;\n",
       "    }\n",
       "</style>\n",
       "<table border=\"1\" class=\"dataframe\">\n",
       "  <thead>\n",
       "    <tr style=\"text-align: right;\">\n",
       "      <th></th>\n",
       "      <th>coef</th>\n",
       "      <th>p-values</th>\n",
       "    </tr>\n",
       "  </thead>\n",
       "  <tbody>\n",
       "    <tr>\n",
       "      <td>const</td>\n",
       "      <td>7.070151</td>\n",
       "      <td>0.000</td>\n",
       "    </tr>\n",
       "    <tr>\n",
       "      <td>Dummy_Monthy</td>\n",
       "      <td>0.006296</td>\n",
       "      <td>0.000</td>\n",
       "    </tr>\n",
       "    <tr>\n",
       "      <td>stockmarketcrash</td>\n",
       "      <td>0.006108</td>\n",
       "      <td>0.004</td>\n",
       "    </tr>\n",
       "    <tr>\n",
       "      <td>recession</td>\n",
       "      <td>-0.002320</td>\n",
       "      <td>0.001</td>\n",
       "    </tr>\n",
       "    <tr>\n",
       "      <td>bullmarket</td>\n",
       "      <td>-0.002182</td>\n",
       "      <td>0.014</td>\n",
       "    </tr>\n",
       "    <tr>\n",
       "      <td>financialcrisis</td>\n",
       "      <td>-0.005583</td>\n",
       "      <td>0.007</td>\n",
       "    </tr>\n",
       "  </tbody>\n",
       "</table>\n",
       "</div>"
      ],
      "text/plain": [
       "                      coef  p-values\n",
       "const             7.070151     0.000\n",
       "Dummy_Monthy      0.006296     0.000\n",
       "stockmarketcrash  0.006108     0.004\n",
       "recession        -0.002320     0.001\n",
       "bullmarket       -0.002182     0.014\n",
       "financialcrisis  -0.005583     0.007"
      ]
     },
     "execution_count": 50,
     "metadata": {},
     "output_type": "execute_result"
    }
   ],
   "source": [
    "X_incl_const = sm.add_constant(X_train)\n",
    "model = sm.OLS(y_train, X_incl_const)\n",
    "results = model.fit()\n",
    "\n",
    "pd.DataFrame({'coef': results.params, 'p-values': round(results.pvalues, 3)})\n",
    "\n"
   ]
  },
  {
   "cell_type": "code",
   "execution_count": 51,
   "metadata": {},
   "outputs": [
    {
     "name": "stdout",
     "output_type": "stream",
     "text": [
      "Training data R squared 0.8816992296795523\n",
      "Testing data R Squared 0.6010514258458983\n"
     ]
    }
   ],
   "source": [
    "print('Training data R squared',regr.score(X_train, y_train))\n",
    "print('Testing data R Squared', regr.score(X_test, y_test))\n"
   ]
  }
 ],
 "metadata": {
  "kernelspec": {
   "display_name": "Python 3",
   "language": "python",
   "name": "python3"
  },
  "language_info": {
   "codemirror_mode": {
    "name": "ipython",
    "version": 3
   },
   "file_extension": ".py",
   "mimetype": "text/x-python",
   "name": "python",
   "nbconvert_exporter": "python",
   "pygments_lexer": "ipython3",
   "version": "3.7.4"
  }
 },
 "nbformat": 4,
 "nbformat_minor": 2
}
